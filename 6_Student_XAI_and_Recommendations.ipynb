{
  "nbformat": 4,
  "nbformat_minor": 0,
  "metadata": {
    "colab": {
      "provenance": [],
      "authorship_tag": "ABX9TyOE2pCK9eQK6CUcWkl3ruOz",
      "include_colab_link": true
    },
    "kernelspec": {
      "name": "python3",
      "display_name": "Python 3"
    },
    "language_info": {
      "name": "python"
    }
  },
  "cells": [
    {
      "cell_type": "markdown",
      "metadata": {
        "id": "view-in-github",
        "colab_type": "text"
      },
      "source": [
        "<a href=\"https://colab.research.google.com/github/RajeshMallik19/Project_Q/blob/student_dropout/6_Student_XAI_and_Recommendations.ipynb\" target=\"_parent\"><img src=\"https://colab.research.google.com/assets/colab-badge.svg\" alt=\"Open In Colab\"/></a>"
      ]
    },
    {
      "cell_type": "code",
      "source": [
        "# ===================================================================\n",
        "# Part 0: Install and Import Libraries\n",
        "# ===================================================================\n",
        "!pip install shap\n",
        "!pip install imbalanced-learn\n",
        "\n",
        "import pandas as pd\n",
        "import numpy as np\n",
        "from sklearn.model_selection import train_test_split\n",
        "from imblearn.over_sampling import SMOTE\n",
        "import tensorflow as tf\n",
        "import shap\n",
        "\n",
        "print(\"Libraries installed and imported.\")\n",
        "\n",
        "\n",
        "# ===================================================================\n",
        "# Part 1: Load Data and Retrain the Best Student Model (BiLSTM-CNN)\n",
        "# ===================================================================\n",
        "df = pd.read_csv('student_dropout_prepped.csv')\n",
        "\n",
        "# Convert boolean columns to integers\n",
        "bool_cols = df.select_dtypes(include='bool').columns\n",
        "for col in bool_cols:\n",
        "    df[col] = df[col].astype(int)\n",
        "\n",
        "X = df.drop(columns=['at_risk'])\n",
        "y = df['at_risk']\n",
        "X_train, X_test, y_train, y_test = train_test_split(\n",
        "    X.values, y.values, test_size=0.2, random_state=42, stratify=y\n",
        ")\n",
        "smote = SMOTE(random_state=42)\n",
        "X_train_resampled, y_train_resampled = smote.fit_resample(X_train, y_train)\n",
        "\n",
        "# Reshape data for the model\n",
        "X_train_reshaped = np.reshape(X_train_resampled, (X_train_resampled.shape[0], 1, X_train_resampled.shape[1]))\n",
        "X_test_reshaped = np.reshape(X_test, (X_test.shape[0], 1, X_test.shape[1]))\n",
        "\n",
        "print(\"\\n--- Training the BiLSTM-CNN Model for Student Data ---\")\n",
        "dl_model = tf.keras.models.Sequential([\n",
        "    tf.keras.layers.Bidirectional(tf.keras.layers.LSTM(64, return_sequences=True), input_shape=(X_train_reshaped.shape[1], X_train_reshaped.shape[2])),\n",
        "    tf.keras.layers.Conv1D(filters=32, kernel_size=1, activation='relu'),\n",
        "    tf.keras.layers.Flatten(),\n",
        "    tf.keras.layers.Dense(32, activation='relu'),\n",
        "    tf.keras.layers.Dense(1, activation='sigmoid')\n",
        "])\n",
        "dl_model.compile(optimizer='adam', loss='binary_crossentropy')\n",
        "dl_model.fit(X_train_reshaped, y_train_resampled, epochs=20, batch_size=32, verbose=0)\n",
        "print(\"Model trained successfully.\")\n",
        "\n",
        "\n",
        "# ===================================================================\n",
        "# Part 2: Explain Predictions with SHAP\n",
        "# ===================================================================\n",
        "def predict_fn(data):\n",
        "    data_reshaped = np.reshape(data, (data.shape[0], 1, data.shape[1]))\n",
        "    return dl_model.predict(data_reshaped)\n",
        "\n",
        "explainer = shap.KernelExplainer(predict_fn, X_train[:50])\n",
        "\n",
        "# Find a student in the test set that the model predicts is at high risk\n",
        "test_predictions = predict_fn(X_test)\n",
        "high_risk_indices = np.where(test_predictions > 0.5)[0]\n",
        "\n",
        "if len(high_risk_indices) > 0:\n",
        "    high_risk_index = high_risk_indices[0]\n",
        "    print(f\"\\nExplaining prediction for student at index: {high_risk_index}\")\n",
        "\n",
        "    shap_values = explainer.shap_values(X_test[high_risk_index, :])\n",
        "\n",
        "    print(\"Generating SHAP waterfall plot...\")\n",
        "    shap.waterfall_plot(shap.Explanation(values=shap_values[0],\n",
        "                                         base_values=explainer.expected_value[0],\n",
        "                                         data=X_test[high_risk_index, :],\n",
        "                                         feature_names=X.columns.tolist()))\n",
        "else:\n",
        "    print(\"\\nNo at-risk students found in the test sample to explain.\")\n",
        "\n",
        "\n",
        "# ===================================================================\n",
        "# Part 3: Create the Personalized Student Recommendation Function\n",
        "# ===================================================================\n",
        "def get_student_recommendation(shap_values, column_names):\n",
        "    feature_impacts = list(zip(column_names, shap_values))\n",
        "    feature_impacts.sort(key=lambda x: x[1], reverse=True)\n",
        "    top_drivers = [f for f, v in feature_impacts[:3] if v > 0]\n",
        "\n",
        "    print(\"\\n-------------------------------------------\")\n",
        "    print(\"--- Personalized Recommendation Report ---\")\n",
        "    print(f\"Prediction: AT-RISK\")\n",
        "    print(f\"Top Risk Factors: {', '.join(top_drivers)}\")\n",
        "\n",
        "    print(\"\\nRecommended Interventions:\")\n",
        "    recommendations = []\n",
        "    for feature in top_drivers:\n",
        "        if 'StudentAbsenceDays_Under-7' in feature: # Note: In this dataset, a value of 0 for this means \"Above-7\"\n",
        "            recommendations.append(\"• High absenteeism detected. Recommend meeting with student counselor to address potential issues.\")\n",
        "        elif 'raisedhands' in feature:\n",
        "            recommendations.append(\"• Low class participation. Recommend teacher encouragement and engagement strategies.\")\n",
        "        elif 'VisITedResources' in feature:\n",
        "            recommendations.append(\"• Low engagement with course materials. Suggest academic advisor follow-up to provide study resources.\")\n",
        "        elif 'ParentAnsweringSurvey_Yes' in feature: # A value of 0 means \"No\"\n",
        "            recommendations.append(\"• Lack of parental engagement noted. Recommend scheduling a parent-teacher conference.\")\n",
        "        elif 'Discussion' in feature:\n",
        "            recommendations.append(\"• Low participation in discussion groups. Suggest assigning collaborative projects.\")\n",
        "\n",
        "    if not recommendations:\n",
        "        recommendations.append(\"• General academic performance review with an advisor is recommended.\")\n",
        "\n",
        "    for rec in recommendations:\n",
        "        print(rec)\n",
        "    print(\"-------------------------------------------\")\n",
        "\n",
        "# Run the recommendation engine if an at-risk student was found\n",
        "if len(high_risk_indices) > 0:\n",
        "    get_student_recommendation(shap_values[0], X.columns)"
      ],
      "metadata": {
        "colab": {
          "base_uri": "https://localhost:8080/",
          "height": 1000
        },
        "id": "Qzznr3-kRKut",
        "outputId": "610728db-5ee5-42e0-da10-63a1166c7276"
      },
      "execution_count": 3,
      "outputs": [
        {
          "output_type": "stream",
          "name": "stdout",
          "text": [
            "Requirement already satisfied: shap in /usr/local/lib/python3.12/dist-packages (0.48.0)\n",
            "Requirement already satisfied: numpy in /usr/local/lib/python3.12/dist-packages (from shap) (2.0.2)\n",
            "Requirement already satisfied: scipy in /usr/local/lib/python3.12/dist-packages (from shap) (1.16.2)\n",
            "Requirement already satisfied: scikit-learn in /usr/local/lib/python3.12/dist-packages (from shap) (1.6.1)\n",
            "Requirement already satisfied: pandas in /usr/local/lib/python3.12/dist-packages (from shap) (2.2.2)\n",
            "Requirement already satisfied: tqdm>=4.27.0 in /usr/local/lib/python3.12/dist-packages (from shap) (4.67.1)\n",
            "Requirement already satisfied: packaging>20.9 in /usr/local/lib/python3.12/dist-packages (from shap) (25.0)\n",
            "Requirement already satisfied: slicer==0.0.8 in /usr/local/lib/python3.12/dist-packages (from shap) (0.0.8)\n",
            "Requirement already satisfied: numba>=0.54 in /usr/local/lib/python3.12/dist-packages (from shap) (0.60.0)\n",
            "Requirement already satisfied: cloudpickle in /usr/local/lib/python3.12/dist-packages (from shap) (3.1.1)\n",
            "Requirement already satisfied: typing-extensions in /usr/local/lib/python3.12/dist-packages (from shap) (4.15.0)\n",
            "Requirement already satisfied: llvmlite<0.44,>=0.43.0dev0 in /usr/local/lib/python3.12/dist-packages (from numba>=0.54->shap) (0.43.0)\n",
            "Requirement already satisfied: python-dateutil>=2.8.2 in /usr/local/lib/python3.12/dist-packages (from pandas->shap) (2.9.0.post0)\n",
            "Requirement already satisfied: pytz>=2020.1 in /usr/local/lib/python3.12/dist-packages (from pandas->shap) (2025.2)\n",
            "Requirement already satisfied: tzdata>=2022.7 in /usr/local/lib/python3.12/dist-packages (from pandas->shap) (2025.2)\n",
            "Requirement already satisfied: joblib>=1.2.0 in /usr/local/lib/python3.12/dist-packages (from scikit-learn->shap) (1.5.2)\n",
            "Requirement already satisfied: threadpoolctl>=3.1.0 in /usr/local/lib/python3.12/dist-packages (from scikit-learn->shap) (3.6.0)\n",
            "Requirement already satisfied: six>=1.5 in /usr/local/lib/python3.12/dist-packages (from python-dateutil>=2.8.2->pandas->shap) (1.17.0)\n",
            "Requirement already satisfied: imbalanced-learn in /usr/local/lib/python3.12/dist-packages (0.14.0)\n",
            "Requirement already satisfied: numpy<3,>=1.25.2 in /usr/local/lib/python3.12/dist-packages (from imbalanced-learn) (2.0.2)\n",
            "Requirement already satisfied: scipy<2,>=1.11.4 in /usr/local/lib/python3.12/dist-packages (from imbalanced-learn) (1.16.2)\n",
            "Requirement already satisfied: scikit-learn<2,>=1.4.2 in /usr/local/lib/python3.12/dist-packages (from imbalanced-learn) (1.6.1)\n",
            "Requirement already satisfied: joblib<2,>=1.2.0 in /usr/local/lib/python3.12/dist-packages (from imbalanced-learn) (1.5.2)\n",
            "Requirement already satisfied: threadpoolctl<4,>=2.0.0 in /usr/local/lib/python3.12/dist-packages (from imbalanced-learn) (3.6.0)\n",
            "Libraries installed and imported.\n",
            "\n",
            "--- Training the BiLSTM-CNN Model for Student Data ---\n"
          ]
        },
        {
          "output_type": "stream",
          "name": "stderr",
          "text": [
            "/usr/local/lib/python3.12/dist-packages/keras/src/layers/rnn/bidirectional.py:107: UserWarning: Do not pass an `input_shape`/`input_dim` argument to a layer. When using Sequential models, prefer using an `Input(shape)` object as the first layer in the model instead.\n",
            "  super().__init__(**kwargs)\n"
          ]
        },
        {
          "output_type": "stream",
          "name": "stdout",
          "text": [
            "Model trained successfully.\n",
            "\u001b[1m2/2\u001b[0m \u001b[32m━━━━━━━━━━━━━━━━━━━━\u001b[0m\u001b[37m\u001b[0m \u001b[1m0s\u001b[0m 250ms/step\n",
            "\u001b[1m3/3\u001b[0m \u001b[32m━━━━━━━━━━━━━━━━━━━━\u001b[0m\u001b[37m\u001b[0m \u001b[1m0s\u001b[0m 8ms/step \n",
            "\n",
            "Explaining prediction for student at index: 9\n",
            "\u001b[1m1/1\u001b[0m \u001b[32m━━━━━━━━━━━━━━━━━━━━\u001b[0m\u001b[37m\u001b[0m \u001b[1m0s\u001b[0m 27ms/step\n",
            "\u001b[1m3350/3350\u001b[0m \u001b[32m━━━━━━━━━━━━━━━━━━━━\u001b[0m\u001b[37m\u001b[0m \u001b[1m3s\u001b[0m 998us/step\n",
            "Generating SHAP waterfall plot...\n"
          ]
        },
        {
          "output_type": "display_data",
          "data": {
            "text/plain": [
              "<Figure size 800x200 with 3 Axes>"
            ],
            "image/png": "[encoded data removed]"
          },
          "metadata": {}
        },
        {
          "output_type": "stream",
          "name": "stdout",
          "text": [
            "\n",
            "-------------------------------------------\n",
            "--- Personalized Recommendation Report ---\n",
            "Prediction: AT-RISK\n",
            "Top Risk Factors: \n",
            "\n",
            "Recommended Interventions:\n",
            "• General academic performance review with an advisor is recommended.\n",
            "-------------------------------------------\n"
          ]
        }
      ]
    }
  ]
}